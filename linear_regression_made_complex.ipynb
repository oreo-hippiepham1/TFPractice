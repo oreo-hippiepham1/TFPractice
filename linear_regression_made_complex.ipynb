{
 "cells": [
  {
   "cell_type": "code",
   "execution_count": 1,
   "id": "caacb985",
   "metadata": {
    "_cell_guid": "b1076dfc-b9ad-4769-8c92-a6c4dae69d19",
    "_uuid": "8f2839f25d086af736a60e9eeb907d3b93b6e0e5",
    "execution": {
     "iopub.execute_input": "2022-08-20T13:13:06.630812Z",
     "iopub.status.busy": "2022-08-20T13:13:06.630096Z",
     "iopub.status.idle": "2022-08-20T13:13:06.642908Z",
     "shell.execute_reply": "2022-08-20T13:13:06.641602Z"
    },
    "papermill": {
     "duration": 0.022397,
     "end_time": "2022-08-20T13:13:06.645647",
     "exception": false,
     "start_time": "2022-08-20T13:13:06.623250",
     "status": "completed"
    },
    "tags": []
   },
   "outputs": [],
   "source": [
    "# This Python 3 environment comes with many helpful analytics libraries installed\n",
    "# It is defined by the kaggle/python Docker image: https://github.com/kaggle/docker-python\n",
    "# For example, here's several helpful packages to load\n",
    "\n",
    "import numpy as np # linear algebra\n",
    "import pandas as pd # data processing, CSV file I/O (e.g. pd.read_csv)\n",
    "\n",
    "# Input data files are available in the read-only \"../input/\" directory\n",
    "# For example, running this (by clicking run or pressing Shift+Enter) will list all files under the input directory\n",
    "\n",
    "import os\n",
    "for dirname, _, filenames in os.walk('/kaggle/input'):\n",
    "    for filename in filenames:\n",
    "        print(os.path.join(dirname, filename))\n",
    "\n",
    "# You can write up to 20GB to the current directory (/kaggle/working/) that gets preserved as output when you create a version using \"Save & Run All\" \n",
    "# You can also write temporary files to /kaggle/temp/, but they won't be saved outside of the current session"
   ]
  },
  {
   "cell_type": "code",
   "execution_count": 2,
   "id": "54c34cda",
   "metadata": {
    "execution": {
     "iopub.execute_input": "2022-08-20T13:13:06.655237Z",
     "iopub.status.busy": "2022-08-20T13:13:06.654791Z",
     "iopub.status.idle": "2022-08-20T13:13:12.375936Z",
     "shell.execute_reply": "2022-08-20T13:13:12.374607Z"
    },
    "papermill": {
     "duration": 5.729074,
     "end_time": "2022-08-20T13:13:12.378822",
     "exception": false,
     "start_time": "2022-08-20T13:13:06.649748",
     "status": "completed"
    },
    "tags": []
   },
   "outputs": [],
   "source": [
    "import tensorflow as tf\n",
    "from tensorflow import keras\n"
   ]
  },
  {
   "cell_type": "code",
   "execution_count": null,
   "id": "df044047",
   "metadata": {
    "papermill": {
     "duration": 0.00359,
     "end_time": "2022-08-20T13:13:12.386507",
     "exception": false,
     "start_time": "2022-08-20T13:13:12.382917",
     "status": "completed"
    },
    "tags": []
   },
   "outputs": [],
   "source": []
  },
  {
   "cell_type": "markdown",
   "id": "e31f1e54",
   "metadata": {
    "papermill": {
     "duration": 0.003593,
     "end_time": "2022-08-20T13:13:12.394069",
     "exception": false,
     "start_time": "2022-08-20T13:13:12.390476",
     "status": "completed"
    },
    "tags": []
   },
   "source": [
    "# Simple Regressions Made Complex\n",
    "## Goal\n",
    "- I will recreate Linear Regression and Logistic Regression models, however using the much more complex approach, which is through Tensorflow's **custom layers and models** and **Functional API**  \n",
    "\n",
    "## Purpose\n",
    "- The sole purpose of this is to better my understanding of the more advanced Tensorflow methods\n",
    "\n",
    "\n",
    "### Use TF's **Custom Layer** to build simple densely connected layers, which are the core of Linear Regression and NNs"
   ]
  },
  {
   "cell_type": "code",
   "execution_count": 3,
   "id": "ec969fb4",
   "metadata": {
    "execution": {
     "iopub.execute_input": "2022-08-20T13:13:12.404343Z",
     "iopub.status.busy": "2022-08-20T13:13:12.403297Z",
     "iopub.status.idle": "2022-08-20T13:13:13.632181Z",
     "shell.execute_reply": "2022-08-20T13:13:13.630932Z"
    },
    "papermill": {
     "duration": 1.237015,
     "end_time": "2022-08-20T13:13:13.634956",
     "exception": false,
     "start_time": "2022-08-20T13:13:12.397941",
     "status": "completed"
    },
    "tags": []
   },
   "outputs": [],
   "source": [
    "class LinearRegressionLayer(tf.keras.layers.Layer): # custom layer\n",
    "    def __init__(self, units, activation=None):\n",
    "        super().__init__()\n",
    "        self.units = units\n",
    "        self.activation = tf.keras.activations.get(activation) # activation for Logistic Regression\n",
    "        \n",
    "    def build(self, input_shape):  # STATE of the layer (weights, biases)\n",
    "        w_init = tf.random_normal_initializer()\n",
    "        self.w = tf.Variable(name='weights',\n",
    "                             initial_value=w_init(shape=(input_shape[-1], self.units), dtype='float32'), \n",
    "                             trainable=True)\n",
    "        \n",
    "        b_init = tf.zeros_initializer()\n",
    "        self.b = tf.Variable(name='bias',\n",
    "                             initial_value=b_init(shape=(self.units), dtype='float32'),\n",
    "                             trainable=True)\n",
    "        \n",
    "    def call(self, inputs):   # COMPUTATION of the layer\n",
    "        return self.activation( tf.matmul(inputs, self.w) + self.b )\n",
    "    "
   ]
  },
  {
   "cell_type": "markdown",
   "id": "96d637c4",
   "metadata": {
    "papermill": {
     "duration": 0.003446,
     "end_time": "2022-08-20T13:13:13.642184",
     "exception": false,
     "start_time": "2022-08-20T13:13:13.638738",
     "status": "completed"
    },
    "tags": []
   },
   "source": [
    "### Test to see if the custom layer works"
   ]
  },
  {
   "cell_type": "code",
   "execution_count": 4,
   "id": "e2bb19e3",
   "metadata": {
    "execution": {
     "iopub.execute_input": "2022-08-20T13:13:13.651365Z",
     "iopub.status.busy": "2022-08-20T13:13:13.650929Z",
     "iopub.status.idle": "2022-08-20T13:13:26.693523Z",
     "shell.execute_reply": "2022-08-20T13:13:26.692185Z"
    },
    "papermill": {
     "duration": 13.050494,
     "end_time": "2022-08-20T13:13:26.696323",
     "exception": false,
     "start_time": "2022-08-20T13:13:13.645829",
     "status": "completed"
    },
    "tags": []
   },
   "outputs": [
    {
     "name": "stdout",
     "output_type": "stream",
     "text": [
      "Downloading data from https://storage.googleapis.com/tensorflow/tf-keras-datasets/mnist.npz\n",
      "11493376/11490434 [==============================] - 0s 0us/step\n",
      "11501568/11490434 [==============================] - 0s 0us/step\n"
     ]
    },
    {
     "name": "stderr",
     "output_type": "stream",
     "text": [
      "2022-08-20 13:13:14.305430: I tensorflow/core/common_runtime/process_util.cc:146] Creating new thread pool with default inter op setting: 2. Tune using inter_op_parallelism_threads for best performance.\n",
      "2022-08-20 13:13:14.961533: I tensorflow/compiler/mlir/mlir_graph_optimization_pass.cc:185] None of the MLIR Optimization Passes are enabled (registered 2)\n"
     ]
    },
    {
     "name": "stdout",
     "output_type": "stream",
     "text": [
      "Epoch 1/3\n",
      "1875/1875 [==============================] - 4s 2ms/step - loss: 0.8953 - accuracy: 0.7682\n",
      "Epoch 2/3\n",
      "1875/1875 [==============================] - 3s 2ms/step - loss: 0.4257 - accuracy: 0.8787\n",
      "Epoch 3/3\n",
      "1875/1875 [==============================] - 3s 2ms/step - loss: 0.3577 - accuracy: 0.8972\n",
      "313/313 [==============================] - 1s 1ms/step - loss: 0.2829 - accuracy: 0.9192\n"
     ]
    },
    {
     "data": {
      "text/plain": [
       "[0.2829039692878723, 0.9192000031471252]"
      ]
     },
     "execution_count": 4,
     "metadata": {},
     "output_type": "execute_result"
    }
   ],
   "source": [
    "# load MNIST\n",
    "mnist = tf.keras.datasets.mnist\n",
    "\n",
    "(X_train, y_train), (X_test, y_test) = mnist.load_data()\n",
    "X_train, X_test = X_train / 255.0, X_test / 255.0 # normalize\n",
    "\n",
    "# build a simple Sequential Model\n",
    "# 2 Dense layers, with 128 -> 10 units, with Dropout(0.2) in the middle\n",
    "model = tf.keras.models.Sequential([\n",
    "    tf.keras.layers.Flatten(input_shape=(28, 28)),\n",
    "    LinearRegressionLayer(units=128, activation='relu'),\n",
    "    tf.keras.layers.Dropout(0.2),\n",
    "    LinearRegressionLayer(units=10, activation='softmax')\n",
    "])\n",
    "\n",
    "# Model compilation\n",
    "model.compile(optimizer='sgd',\n",
    "              loss='sparse_categorical_crossentropy',\n",
    "              metrics=['accuracy'])\n",
    "\n",
    "# Training\n",
    "model.fit(X_train, y_train, epochs=3)\n",
    "model.evaluate(X_test, y_test)"
   ]
  },
  {
   "cell_type": "markdown",
   "id": "98140509",
   "metadata": {
    "papermill": {
     "duration": 0.017267,
     "end_time": "2022-08-20T13:13:26.731928",
     "exception": false,
     "start_time": "2022-08-20T13:13:26.714661",
     "status": "completed"
    },
    "tags": []
   },
   "source": [
    "- Since the our simple model works with no error (though fairly poor results, but that's not the point), we can be confident that the custom layer works as intended, and can be used for the next part:"
   ]
  },
  {
   "cell_type": "markdown",
   "id": "b705a77b",
   "metadata": {
    "papermill": {
     "duration": 0.01682,
     "end_time": "2022-08-20T13:13:26.765996",
     "exception": false,
     "start_time": "2022-08-20T13:13:26.749176",
     "status": "completed"
    },
    "tags": []
   },
   "source": [
    "### Use this custom layer as the core of the Linear Regression and Logistic Regression models"
   ]
  },
  {
   "cell_type": "code",
   "execution_count": 5,
   "id": "f01a7914",
   "metadata": {
    "execution": {
     "iopub.execute_input": "2022-08-20T13:13:26.803975Z",
     "iopub.status.busy": "2022-08-20T13:13:26.802643Z",
     "iopub.status.idle": "2022-08-20T13:13:26.811054Z",
     "shell.execute_reply": "2022-08-20T13:13:26.810122Z"
    },
    "papermill": {
     "duration": 0.029781,
     "end_time": "2022-08-20T13:13:26.813643",
     "exception": false,
     "start_time": "2022-08-20T13:13:26.783862",
     "status": "completed"
    },
    "tags": []
   },
   "outputs": [],
   "source": [
    "class LinearRegression(tf.keras.Model):\n",
    "    def __init__(self):\n",
    "        super().__init__()\n",
    "        self.lr = LinearRegressionLayer(units=1)\n",
    "        \n",
    "    def call(self, inputs):\n",
    "        x = self.lr(inputs)\n",
    "        return x\n",
    "    \n",
    "class LogisticRegression(tf.keras.Model):\n",
    "    def __init__(self):\n",
    "        super().__init__()\n",
    "        self.logit = LinearRegressionLayer(units=1, activation='sigmoid')\n",
    "    \n",
    "    def call(self, inputs):\n",
    "        x = self.logit(inputs)\n",
    "        return x"
   ]
  },
  {
   "cell_type": "markdown",
   "id": "1846df7c",
   "metadata": {
    "papermill": {
     "duration": 0.016925,
     "end_time": "2022-08-20T13:13:26.847709",
     "exception": false,
     "start_time": "2022-08-20T13:13:26.830784",
     "status": "completed"
    },
    "tags": []
   },
   "source": [
    "### Test to see if our custom LR model works as intended:"
   ]
  },
  {
   "cell_type": "code",
   "execution_count": 6,
   "id": "dd8431d6",
   "metadata": {
    "execution": {
     "iopub.execute_input": "2022-08-20T13:13:26.883965Z",
     "iopub.status.busy": "2022-08-20T13:13:26.883567Z",
     "iopub.status.idle": "2022-08-20T13:13:27.932179Z",
     "shell.execute_reply": "2022-08-20T13:13:27.929299Z"
    },
    "papermill": {
     "duration": 1.07054,
     "end_time": "2022-08-20T13:13:27.935326",
     "exception": false,
     "start_time": "2022-08-20T13:13:26.864786",
     "status": "completed"
    },
    "tags": []
   },
   "outputs": [
    {
     "name": "stdout",
     "output_type": "stream",
     "text": [
      "---------------------\n"
     ]
    },
    {
     "data": {
      "text/plain": [
       "array([[7.15104]], dtype=float32)"
      ]
     },
     "execution_count": 6,
     "metadata": {},
     "output_type": "execute_result"
    }
   ],
   "source": [
    "X = np.linspace(1, 10, 10)\n",
    "y = 2*X - 1 # y = 2x - 1\n",
    "\n",
    "model = LinearRegression()\n",
    "model.compile(optimizer='sgd',\n",
    "              loss='mse',\n",
    "              metrics=['mse'])\n",
    "model.fit(X, y, epochs=300, verbose=0)\n",
    "print('---------------------')\n",
    "model.predict([4.])\n"
   ]
  },
  {
   "cell_type": "code",
   "execution_count": 7,
   "id": "a6f2139a",
   "metadata": {
    "execution": {
     "iopub.execute_input": "2022-08-20T13:13:27.973099Z",
     "iopub.status.busy": "2022-08-20T13:13:27.971966Z",
     "iopub.status.idle": "2022-08-20T13:13:27.981042Z",
     "shell.execute_reply": "2022-08-20T13:13:27.979837Z"
    },
    "papermill": {
     "duration": 0.030453,
     "end_time": "2022-08-20T13:13:27.983416",
     "exception": false,
     "start_time": "2022-08-20T13:13:27.952963",
     "status": "completed"
    },
    "tags": []
   },
   "outputs": [
    {
     "data": {
      "text/plain": [
       "[<tf.Variable 'linear_regression/linear_regression_layer_2/weights:0' shape=(1, 1) dtype=float32, numpy=array([[1.9490044]], dtype=float32)>,\n",
       " <tf.Variable 'linear_regression/linear_regression_layer_2/bias:0' shape=(1,) dtype=float32, numpy=array([-0.64497733], dtype=float32)>]"
      ]
     },
     "execution_count": 7,
     "metadata": {},
     "output_type": "execute_result"
    }
   ],
   "source": [
    "model.variables # y = 1.9x - 0.6"
   ]
  },
  {
   "cell_type": "code",
   "execution_count": null,
   "id": "1aba0ffe",
   "metadata": {
    "papermill": {
     "duration": 0.017512,
     "end_time": "2022-08-20T13:13:28.019159",
     "exception": false,
     "start_time": "2022-08-20T13:13:28.001647",
     "status": "completed"
    },
    "tags": []
   },
   "outputs": [],
   "source": []
  }
 ],
 "metadata": {
  "kernelspec": {
   "display_name": "Python 3",
   "language": "python",
   "name": "python3"
  },
  "language_info": {
   "codemirror_mode": {
    "name": "ipython",
    "version": 3
   },
   "file_extension": ".py",
   "mimetype": "text/x-python",
   "name": "python",
   "nbconvert_exporter": "python",
   "pygments_lexer": "ipython3",
   "version": "3.7.12"
  },
  "papermill": {
   "default_parameters": {},
   "duration": 34.165078,
   "end_time": "2022-08-20T13:13:31.382173",
   "environment_variables": {},
   "exception": null,
   "input_path": "__notebook__.ipynb",
   "output_path": "__notebook__.ipynb",
   "parameters": {},
   "start_time": "2022-08-20T13:12:57.217095",
   "version": "2.3.4"
  }
 },
 "nbformat": 4,
 "nbformat_minor": 5
}
